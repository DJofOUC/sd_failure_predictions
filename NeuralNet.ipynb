{
 "cells": [
  {
   "cell_type": "code",
   "execution_count": null,
   "metadata": {
    "collapsed": true
   },
   "outputs": [],
   "source": [
    "import numpy as np\n",
    "import pandas as pd\n",
    "import matplotlib.pyplot as plt\n",
    "from datetime import datetime\n",
    "\n",
    "import torch\n",
    "from torch import nn\n",
    "from torch import optim\n",
    "from torch.utils.data import Dataset, DataLoader\n",
    "\n",
    "%matplotlib inline"
   ]
  },
  {
   "cell_type": "code",
   "execution_count": null,
   "metadata": {
    "collapsed": true
   },
   "outputs": [],
   "source": [
    "DEBUG = False\n",
    "np.random.seed(17)\n",
    "\n",
    "if DEBUG:\n",
    "    TRAIN_DATASETS = ['model_{}_ST4000DM000.csv'.format(year) for year in [2015]]\n",
    "else:\n",
    "    TRAIN_DATASETS = ['model_{}_ST4000DM000.csv'.format(year) for year in [2015, 2016, 2017]]\n",
    "TEST_DATASET = 'model_2018_ST4000DM000.csv'\n",
    "\n",
    "attributes = ['smart_{}_raw'.format(idx) for idx in [188, 197, 240]] + \\\n",
    "             ['smart_{}_normalized'.format(idx) for idx in [1, 187]]\n",
    "attributes_and_target = attributes + ['failure']\n"
   ]
  },
  {
   "cell_type": "code",
   "execution_count": null,
   "metadata": {
    "collapsed": true
   },
   "outputs": [],
   "source": [
    "def get_delta_days(ss):\n",
    "    def get_delta(st, end):\n",
    "        return (datetime.strptime(st, \"%Y-%m-%d\") - datetime.strptime(end, \"%Y-%m-%d\")).days\n",
    "    min_date = ss.min()\n",
    "    return ss.apply(lambda x: get_delta(x, min_date))\n",
    "\n",
    "def prepare_data(X):\n",
    "    groups = X.groupby('serial_number')\n",
    "    x_data = []\n",
    "    y_data = []\n",
    "    for serial_number, df in groups:\n",
    "        y_data.append(df.iloc[0].failure)\n",
    "        x_sample = df[attributes].values\n",
    "        x_data.append(x_sample)\n",
    "    return np.array(x_data), np.array(y_data)\n",
    "\n",
    "def convert_df(df):\n",
    "    if isinstance(df, str):\n",
    "        df = pd.read_csv(df)\n",
    "    # remove serial_numbers where history is less than 21\n",
    "    data = df.groupby(['serial_number']).filter(lambda x: len(x) >= 21)\n",
    "    data.sort_values(by=['date'], inplace=True)\n",
    "    data = data.groupby('serial_number').tail(21)\n",
    "\n",
    "    X = data[attributes_and_target+['date', 'serial_number']]\n",
    "    X['time_delta'] = X.groupby('serial_number').date.apply(get_delta_days)\n",
    "    X, y = prepare_data(X)\n",
    "    return X, y\n",
    "\n",
    "def convert_dfs(dfs):\n",
    "    if isinstance(dfs[0], str):\n",
    "        dfs = [pd.read_csv(path) for path in dfs]\n",
    "    xs, ys = [], []\n",
    "    for df in dfs:\n",
    "        X, y = convert_df(df)\n",
    "        xs.append(X)\n",
    "        ys.append(y)\n",
    "    X, y = np.concatenate(xs), np.concatenate(ys)\n",
    "    return X, y"
   ]
  },
  {
   "cell_type": "code",
   "execution_count": null,
   "metadata": {},
   "outputs": [],
   "source": [
    "X_train, y_train = convert_dfs(TRAIN_DATASETS)\n",
    "X_test, y_test = convert_df(TEST_DATASET)"
   ]
  },
  {
   "cell_type": "code",
   "execution_count": null,
   "metadata": {
    "collapsed": true,
    "scrolled": true
   },
   "outputs": [],
   "source": [
    "def not_nan_smart_attributes(data):\n",
    "    attribs = []\n",
    "    item0 = data.iloc[0]\n",
    "    columns = data.columns\n",
    "    for column in columns:\n",
    "        if not column.startswith('smart_'):\n",
    "            continue\n",
    "        if not np.isnan(item0[column]):\n",
    "            attribs.append(column)\n",
    "    return attribs\n",
    "\n",
    "# not_nan_smart_attributes(data)"
   ]
  },
  {
   "cell_type": "code",
   "execution_count": null,
   "metadata": {
    "collapsed": true
   },
   "outputs": [],
   "source": [
    "from scipy.stats import bernoulli"
   ]
  },
  {
   "cell_type": "code",
   "execution_count": null,
   "metadata": {
    "collapsed": true
   },
   "outputs": [],
   "source": [
    "class SMARTAttributesDataset(Dataset):\n",
    "    def __init__(self, X, y, train=False, k=1., noise=False):\n",
    "        assert len(X) == len(y)\n",
    "        super().__init__()\n",
    "        self._k = k  # ratio n_positive / n_neutral\n",
    "        self._noise = noise\n",
    "        self.train = train\n",
    "        self._X, self._y = X.copy(), y.copy()\n",
    "        if self.train and self._k:\n",
    "            self._increase_samples_in_positive_class()\n",
    "        self._X, self._y = self._X.astype(np.float32), self._y.astype(np.int)\n",
    "\n",
    "    def _increase_samples_in_positive_class(self):\n",
    "        positive_x = self._X[self._y == 1]\n",
    "        n_positive = len(positive_x)\n",
    "        n_neutral = len(self._X) - n_positive\n",
    "        n_addition = int(self._k * n_neutral - n_positive)\n",
    "        assert n_addition > 0\n",
    "        positive_idxs = np.arange(len(positive_x))\n",
    "        positive_idxs = np.random.choice(positive_idxs, size=n_addition)\n",
    "        additional_samples = positive_x[positive_idxs]\n",
    "        if self._noise:\n",
    "            shape = additional_samples.shape\n",
    "            additional_samples += bernoulli.rvs(0.5, size=shape) * 2 - 1\n",
    "        self._y = np.concatenate((self._y, np.ones(n_addition)))\n",
    "        self._X = np.concatenate((self._X, additional_samples))\n",
    "        idxs = np.arange(len(self._X))\n",
    "        np.random.shuffle(idxs)\n",
    "        self._X, self._y = self._X[idxs], self._y[idxs]\n",
    "\n",
    "    def __len__(self):\n",
    "        return len(self._X)\n",
    "\n",
    "    def __getitem__(self, idx):\n",
    "        sample = {'x': self._X[idx], 'y': self._y[idx]}\n",
    "        return sample"
   ]
  },
  {
   "cell_type": "code",
   "execution_count": null,
   "metadata": {},
   "outputs": [],
   "source": [
    "batch_size = 128\n",
    "\n",
    "train_dataset = SMARTAttributesDataset(X_train, y_train, train=True, k=None, noise=False)\n",
    "train_loader = DataLoader(train_dataset, batch_size=batch_size, shuffle=True)\n",
    "\n",
    "test_dataset = SMARTAttributesDataset(X_test, y_test)\n",
    "test_loader = DataLoader(test_dataset, batch_size=batch_size)"
   ]
  },
  {
   "cell_type": "code",
   "execution_count": null,
   "metadata": {
    "collapsed": true
   },
   "outputs": [],
   "source": [
    "X_train2d, X_test2d = X_train[:,-1,:], X_test[:,-1,:]\n",
    "\n",
    "train_dataset = SMARTAttributesDataset(X_train2d, y_train, train=True, k=1., noise=True)\n",
    "test_dataset = SMARTAttributesDataset(X_test2d, y_test)\n",
    "\n",
    "train_loader = DataLoader(train_dataset, batch_size=batch_size, shuffle=True)\n",
    "test_loader = DataLoader(test_dataset, batch_size=batch_size)"
   ]
  },
  {
   "cell_type": "code",
   "execution_count": null,
   "metadata": {
    "collapsed": true
   },
   "outputs": [],
   "source": [
    "class NNet(nn.Module):\n",
    "    def __init__(self, input_size, nhidden=4, nlayers=1, dropout=0.1):\n",
    "        super().__init__()\n",
    "        self.rnn = nn.LSTM(input_size=input_size, hidden_size=nhidden, num_layers=nlayers, dropout=dropout,\n",
    "                           batch_first=True)\n",
    "        self.linear = nn.Linear(nhidden, 2)\n",
    "\n",
    "    def forward(self, inp):\n",
    "        _, (h_n, _) = self.rnn(inp)\n",
    "        repr_ = h_n[-1]\n",
    "        return self.linear(repr_)\n",
    "\n",
    "\n",
    "class DenseNet(nn.Module):\n",
    "    def __init__(self, input_size, hidden_sizes=[8, 8]):\n",
    "        hs1, hs2 = hidden_sizes\n",
    "        super().__init__()\n",
    "        self.layers = nn.Sequential(\n",
    "            nn.Linear(input_size, hs1), nn.Tanh(),\n",
    "            nn.Linear(hs1, hs2), nn.Tanh(),\n",
    "            nn.Linear(hs2, 2)\n",
    "        )\n",
    "\n",
    "    def forward(self, inp):\n",
    "        out = self.layers(inp)\n",
    "        return out"
   ]
  },
  {
   "cell_type": "code",
   "execution_count": null,
   "metadata": {
    "collapsed": true
   },
   "outputs": [],
   "source": [
    "from torch.nn.functional import softmax\n",
    "from utils import FAR, FDR"
   ]
  },
  {
   "cell_type": "code",
   "execution_count": null,
   "metadata": {
    "scrolled": true
   },
   "outputs": [],
   "source": [
    "## Train\n",
    "# model = NNet(input_size=len(attributes))\n",
    "model = DenseNet(input_size=len(attributes))\n",
    "\n",
    "criterion = nn.CrossEntropyLoss(weight=torch.FloatTensor([1, 1]))\n",
    "optimizer = optim.Adam(model.parameters())\n",
    "\n",
    "def train_epoch(model, dataloader, optimizer, criterion):\n",
    "    model.train()\n",
    "    losses = []\n",
    "    for batch_idx, batch in enumerate(dataloader):\n",
    "        x, y = batch['x'], batch['y']\n",
    "        optimizer.zero_grad()\n",
    "        outputs = model(x)\n",
    "        loss = criterion(outputs, y)\n",
    "        loss.backward()\n",
    "        optimizer.step()\n",
    "        losses.append(loss.detach().numpy())\n",
    "    return np.mean(losses)\n",
    "\n",
    "\n",
    "def evaluate(model, dataloader, criterion):\n",
    "    probs = []\n",
    "    labels = []\n",
    "    losses = []\n",
    "    model.eval()\n",
    "    with torch.no_grad():\n",
    "        for batch_idx, batch in enumerate(dataloader):\n",
    "            x, y = batch['x'], batch['y']\n",
    "            outputs = model(x)  # size: [B, 2]\n",
    "            loss = criterion(outputs, y)\n",
    "            probs.append(softmax(outputs).numpy())\n",
    "            labels.append(y.numpy())\n",
    "            losses.append(loss.detach().numpy())\n",
    "    probs = np.concatenate(probs, axis=0)[:, 1]\n",
    "    labels = np.concatenate(labels, axis=0)\n",
    "    metrics = {\n",
    "        'FAR': FAR(labels, probs),\n",
    "        'FDR': FDR(labels, probs),\n",
    "        'loss': np.nanmean(losses)\n",
    "    }\n",
    "    return metrics\n",
    "\n",
    "\n",
    "losses = {'train': [], 'test': []}\n",
    "for epoch_idx in range(120):\n",
    "    train_loss = train_epoch(model, train_loader, optimizer, criterion)\n",
    "    test_loss = evaluate(model, test_loader, criterion)\n",
    "    losses['train'].append(train_loss)\n",
    "    losses['test'].append(test_loss)\n",
    "    print(epoch_idx, train_loss, test_loss['loss'], test_loss['FAR'], test_loss['FDR'])"
   ]
  },
  {
   "cell_type": "code",
   "execution_count": null,
   "metadata": {
    "collapsed": true
   },
   "outputs": [],
   "source": []
  }
 ],
 "metadata": {
  "kernelspec": {
   "display_name": "Python 3",
   "language": "python",
   "name": "python3"
  },
  "language_info": {
   "codemirror_mode": {
    "name": "ipython",
    "version": 3
   },
   "file_extension": ".py",
   "mimetype": "text/x-python",
   "name": "python",
   "nbconvert_exporter": "python",
   "pygments_lexer": "ipython3",
   "version": "3.6.3"
  }
 },
 "nbformat": 4,
 "nbformat_minor": 2
}
